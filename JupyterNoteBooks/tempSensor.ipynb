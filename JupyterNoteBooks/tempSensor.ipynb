{
 "cells": [
  {
   "cell_type": "code",
   "execution_count": 8,
   "id": "9cbcf038",
   "metadata": {},
   "outputs": [],
   "source": [
    "import nidaqmx\n",
    "from nidaqmx.stream_readers import AnalogSingleChannelReader\n",
    "import numpy as np\n",
    "import time\n",
    "import warnings\n",
    "warnings.filterwarnings('ignore')"
   ]
  },
  {
   "cell_type": "code",
   "execution_count": 27,
   "id": "b04d4db9",
   "metadata": {},
   "outputs": [],
   "source": [
    "class tidii():\n",
    "    \n",
    "    def __init__(self):\n",
    "        self.tempDO  = nidaqmx.Task()\n",
    "        self.tempDI  = nidaqmx.Task()\n",
    "        self.tempDO_cfg()\n",
    "        self.tempDI_cfg()\n",
    "        \n",
    "        self.pinMode=None\n",
    "        self.mask = 128\n",
    "        self.idx = None\n",
    "        \n",
    "        self.DHTLIB_OK = 0\n",
    "        self.DHTLIB_ERROR_CHECKSUM = -1\n",
    "        self.DHTLIB_ERROR_TIMEOUT = -2\n",
    "        self.DHTLIB_INVALID_VALUE = -999\n",
    "\n",
    "        self.DHTLIB_DHT11_WAKEUP = 18\n",
    "        self.DHTLIB_DHT_WAKEUP = 1\n",
    "        \n",
    "        self.humidity = None\n",
    "        self.temperature = None\n",
    "        \n",
    "        self.bits = np.zeros(5)\n",
    "\n",
    "        self.buffer = np.zeros(10)\n",
    "        \n",
    "        print(\"Init Done!\")\n",
    "        \n",
    "    def tempDI_cfg(self):\n",
    "        self.tempDO.di_channels.add_di_chan(\"Dev1/port0/line1\",\"\")\n",
    "\n",
    "    def tempDO_cfg(self):\n",
    "        self.tempDI.do_channels.add_do_chan(\"Dev1/port0/line1\",\"\")\n",
    "    \n",
    "    def closeTempDO(self):\n",
    "        self.tempDO.stop()\n",
    "        \n",
    "    def closeTempDI(self):\n",
    "        self.tempDI.stop()\n",
    "        \n",
    "    def shutdown(self):\n",
    "        self.tempDI.close()\n",
    "        self.tempDO.close()\n",
    "        print(\"Closed!\")\n",
    "        \n",
    "    def pinMode(mode)\n",
    "        if mode == \"output\":\n",
    "            self.closeTempDI()\n",
    "            self.tempDI.start()\n",
    "            return 1\n",
    "        elif mode = \"input\":\n",
    "            self.closeTempDO()\n",
    "            self.tempDO.start()\n",
    "        elif mode = \"init\":\n",
    "            self.tempDI.start()\n",
    "        elif mode = \"done\":\n",
    "            self.closeTempDO()\n",
    "        else:\n",
    "            print(\"Incorrect\")\n",
    "                          \n",
    "    \n",
    "    def readSensor(self):\n",
    "        \n",
    "        self.idx = 0\n",
    "        self.bits = np.zeros(5)\n",
    "        \n",
    "        #ask data\n",
    "        pinMode(\"init\")\n",
    "        self.tempDO.write(False, 1000)\n",
    "        time.sleep(self.DHTLIB_DHT11_WAKEUP*1e-3)\n",
    "        self.tempDO.write(True, 1000)\n",
    "        time.sleep(40e-3)\n",
    "        \n",
    "        #Listen\n",
    "        pinMode(\"input\")\n",
    "        \n",
    "        for i in np.arange(40,0,-1):\n",
    "            \n",
    "        "
   ]
  },
  {
   "cell_type": "code",
   "execution_count": 28,
   "id": "ff9e173a",
   "metadata": {},
   "outputs": [
    {
     "name": "stdout",
     "output_type": "stream",
     "text": [
      "started\n"
     ]
    }
   ],
   "source": [
    "tid = tidii()\n",
    "time.sleep(10)\n",
    "tid.closeTempDO()\n",
    "tid.closeTempDI()\n",
    "tid.shutdown()\n"
   ]
  },
  {
   "cell_type": "code",
   "execution_count": 33,
   "id": "30327fce",
   "metadata": {},
   "outputs": [
    {
     "data": {
      "text/plain": [
       "40"
      ]
     },
     "execution_count": 33,
     "metadata": {},
     "output_type": "execute_result"
    }
   ],
   "source": [
    "len(np.arange(40,0,-1))"
   ]
  },
  {
   "cell_type": "code",
   "execution_count": null,
   "id": "4be2b110",
   "metadata": {},
   "outputs": [],
   "source": []
  }
 ],
 "metadata": {
  "kernelspec": {
   "display_name": "Python 3 (ipykernel)",
   "language": "python",
   "name": "python3"
  },
  "language_info": {
   "codemirror_mode": {
    "name": "ipython",
    "version": 3
   },
   "file_extension": ".py",
   "mimetype": "text/x-python",
   "name": "python",
   "nbconvert_exporter": "python",
   "pygments_lexer": "ipython3",
   "version": "3.9.13"
  }
 },
 "nbformat": 4,
 "nbformat_minor": 5
}
